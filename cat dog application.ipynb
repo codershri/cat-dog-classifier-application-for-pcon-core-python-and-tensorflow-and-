{
 "cells": [
  {
   "cell_type": "code",
   "execution_count": 1,
   "id": "b75b2a22",
   "metadata": {},
   "outputs": [
    {
     "name": "stdout",
     "output_type": "stream",
     "text": [
      "WARNING:tensorflow:From C:\\Users\\shrirang sonawane\\AppData\\Local\\Programs\\Python\\Python311\\Lib\\site-packages\\keras\\src\\losses.py:2976: The name tf.losses.sparse_softmax_cross_entropy is deprecated. Please use tf.compat.v1.losses.sparse_softmax_cross_entropy instead.\n",
      "\n",
      "WARNING:tensorflow:From C:\\Users\\shrirang sonawane\\AppData\\Local\\Programs\\Python\\Python311\\Lib\\site-packages\\keras\\src\\backend.py:1398: The name tf.executing_eagerly_outside_functions is deprecated. Please use tf.compat.v1.executing_eagerly_outside_functions instead.\n",
      "\n",
      "WARNING:tensorflow:From C:\\Users\\shrirang sonawane\\AppData\\Local\\Programs\\Python\\Python311\\Lib\\site-packages\\keras\\src\\layers\\pooling\\max_pooling2d.py:161: The name tf.nn.max_pool is deprecated. Please use tf.nn.max_pool2d instead.\n",
      "\n",
      "1/1 [==============================] - 0s 234ms/step\n",
      "1/1 [==============================] - 0s 16ms/step\n"
     ]
    }
   ],
   "source": [
    "import tkinter as tk\n",
    "from tkinter import filedialog\n",
    "from PIL import ImageTk, Image\n",
    "import tensorflow as tf\n",
    "import numpy as np\n",
    "\n",
    "# Load the trained model\n",
    "model = tf.keras.models.load_model('cats_and_dogs_classifier.h5')\n",
    "\n",
    "# Initialize the main window\n",
    "root = tk.Tk()\n",
    "root.title(\"Cat and Dog Classifier\")\n",
    "root.geometry(\"500x600\")\n",
    "\n",
    "# Function to load and preprocess the image\n",
    "def load_image():\n",
    "    global img, img_display\n",
    "    file_path = filedialog.askopenfilename()\n",
    "    if file_path:\n",
    "        # Load the image with PIL\n",
    "        img = Image.open(file_path)\n",
    "        img = img.resize((150, 150))  # Resize to match model's expected input\n",
    "        img_array = np.array(img) / 255.0  # Normalize the image\n",
    "\n",
    "        # Display the image in the GUI\n",
    "        img_display = ImageTk.PhotoImage(img)\n",
    "        panel.configure(image=img_display)\n",
    "        panel.image = img_display\n",
    "\n",
    "        # Predict the class\n",
    "        prediction = predict_image(img_array)\n",
    "        result_label.config(text=prediction)\n",
    "\n",
    "# Function to predict the image class\n",
    "def predict_image(image_array):\n",
    "    # Expand dimensions to match the model's input shape\n",
    "    image_array = np.expand_dims(image_array, axis=0)\n",
    "    # Make prediction\n",
    "    prediction = model.predict(image_array)\n",
    "    # Interpret the prediction\n",
    "    if prediction[0] > 0.5:\n",
    "        return \"It's a Dog!\"\n",
    "    else:\n",
    "        return \"It's a Cat!\"\n",
    "\n",
    "# GUI Components\n",
    "btn = tk.Button(root, text=\"Load Image\", command=load_image)\n",
    "btn.pack(pady=20)\n",
    "\n",
    "panel = tk.Label(root)  # Label to display the image\n",
    "panel.pack()\n",
    "\n",
    "result_label = tk.Label(root, text=\"\", font=(\"Helvetica\", 16))\n",
    "result_label.pack(pady=20)\n",
    "\n",
    "# Start the GUI event loop\n",
    "root.mainloop()\n"
   ]
  },
  {
   "cell_type": "code",
   "execution_count": null,
   "id": "4aa7af65",
   "metadata": {},
   "outputs": [],
   "source": []
  }
 ],
 "metadata": {
  "kernelspec": {
   "display_name": "Python 3 (ipykernel)",
   "language": "python",
   "name": "python3"
  },
  "language_info": {
   "codemirror_mode": {
    "name": "ipython",
    "version": 3
   },
   "file_extension": ".py",
   "mimetype": "text/x-python",
   "name": "python",
   "nbconvert_exporter": "python",
   "pygments_lexer": "ipython3",
   "version": "3.11.9"
  }
 },
 "nbformat": 4,
 "nbformat_minor": 5
}
